{
 "cells": [
  {
   "cell_type": "markdown",
   "id": "95b82e17-e6fd-43b9-9a91-6082d8358160",
   "metadata": {},
   "source": [
    "# Analysis of Conversation Data using Discursis\n",
    "\n",
    "In this workshop, we'll look at how we can use Discursis to analyze conversation and discourse\n",
    "transcripts, and other text that is structured like a conversation, such as social media data.\n",
    "\n",
    "The dataset we'll use is the transcript of the National Press Club Leaders Debate\n",
    "between Kevin Rudd and Tony Abbott, available at the [Parliament of Australia website](https://parlinfo.aph.gov.au/parlInfo/search/display/display.w3p;query=Id:%22media/pressrel/2658246%22) under a [CC BY-NC-ND 3.0 AU](https://creativecommons.org/licenses/by-nc-nd/3.0/au/)\n",
    "Creative Commons license."
   ]
  },
  {
   "cell_type": "markdown",
   "id": "0b97febb-9869-4f88-8fc5-21353a2f0de3",
   "metadata": {},
   "source": [
    "## Python setup\n",
    "\n",
    "Discursis and the accompanying tools for conversation data are in the [atap_widgets](https://github.com/Australian-Text-Analytics-Platform/atap_widgets) Python\n",
    "package. We'll load the tools from this library, along with the other libraries we'll be using\n",
    "for the analysis:"
   ]
  },
  {
   "cell_type": "code",
   "execution_count": null,
   "id": "9ab0d38a-6574-4534-918c-cac3237eed66",
   "metadata": {},
   "outputs": [],
   "source": [
    "import os\n",
    "\n",
    "# In order for bokeh to work properly on Binder, we need to specify\n",
    "#   the URL it's running on\n",
    "os.environ[\"BINDER_EXTERNAL_URL\"] = os.environ.get('JUPYTERHUB_EXTERNAL_URL', \"https://notebooks.gesis.org/\")\n",
    "# pandas: tools for data processing\n",
    "import pandas as pd\n",
    "\n",
    "# numpy: tools for numerical calculations\n",
    "import numpy as np\n",
    "\n",
    "pd.options.display.max_colwidth = 100\n",
    "# Bokeh: interactive plots\n",
    "from bokeh.io import output_notebook\n",
    "from bokeh.models import ColorBar\n",
    "from bokeh.plotting import figure, show\n",
    "from bokeh.transform import linear_cmap\n",
    "\n",
    "# networkx: graphs/networks\n",
    "import networkx as nx\n",
    "\n",
    "# matplotlib: another plotting library\n",
    "from matplotlib import cm\n",
    "import matplotlib.pyplot as plt\n",
    "\n",
    "# This needs to be run to enable interactive bokeh plots\n",
    "output_notebook()\n",
    "\n",
    "# Individual tools from atap_widgets\n",
    "from atap_widgets.conversation import (\n",
    "    ConceptSimilarityModel,\n",
    "    Conversation,\n",
    "    EmbeddingModel,\n",
    ")\n",
    "from atap_widgets.plotting import ConversationPlot\n",
    "from atap_widgets.concordance import (\n",
    "    ConcordanceTable,\n",
    "    ConcordanceWidget,\n",
    "    prepare_text_df,\n",
    ")"
   ]
  },
  {
   "cell_type": "code",
   "execution_count": null,
   "id": "a922feaf-f379-476a-b7f5-1d773e2c0c27",
   "metadata": {},
   "outputs": [],
   "source": [
    "# Create a results folder, if it doesn't already exist\n",
    "os.makedirs(\"conversation_results\", exist_ok=True)"
   ]
  },
  {
   "cell_type": "markdown",
   "id": "1e9791a7-d1d0-4ec1-ab8f-f27f6527f7cc",
   "metadata": {},
   "source": [
    "## Loading the data\n",
    "\n",
    "The conversation tools are designed to accept data as a `pandas` dataframe.\n",
    "Each row in the dataframe should be an utterance in the conversation. There\n",
    "should be a `\"text\"` column with the actual content of the utterance\n",
    "and a `\"speaker\"` column identifying who is speaking. It also helps if we have a `\"text_id\"` column that gives a unique identifier for each utterance that\n",
    "we can refer to.\n",
    "\n",
    "\n",
    "Additional metadata columns that might be relevant to your particular dataset\n",
    "will be imported into the conversation tool as-is. In this case we have an additional\n",
    "`\"role\"` column identifying each person's role in the debate."
   ]
  },
  {
   "cell_type": "code",
   "execution_count": null,
   "id": "63b03f58-ac05-407b-a675-5d7ecc41cefb",
   "metadata": {},
   "outputs": [],
   "source": [
    "data = pd.read_excel(\"data/debate_clean.xlsx\")\n",
    "data.head()"
   ]
  },
  {
   "cell_type": "markdown",
   "id": "aed5439d-9642-42c6-9d68-7f4c1506a138",
   "metadata": {},
   "source": [
    "## Data exploration"
   ]
  },
  {
   "cell_type": "markdown",
   "id": "b657b6ce-303c-4fa2-91b6-5cd5e32c9492",
   "metadata": {},
   "source": [
    "Before carrying out our analysis using Discursis, we can do some initial exploration of the data\n",
    "to get an overview of it. We can do this with the tools that are built in to `pandas`,\n",
    "rather than specialized language tools.\n",
    "\n",
    "We can see how many times each person spoke during the debate:"
   ]
  },
  {
   "cell_type": "code",
   "execution_count": null,
   "id": "1b107bf1-1eb2-4b58-a8bb-2e85dd185065",
   "metadata": {},
   "outputs": [],
   "source": [
    "print(\"Total utterances:\", len(data))\n",
    "data[\"speaker\"].value_counts()"
   ]
  },
  {
   "cell_type": "markdown",
   "id": "e7ef0751-5074-49d1-89aa-be672d7f12a6",
   "metadata": {},
   "source": [
    "And see how many times people in different roles spoke:"
   ]
  },
  {
   "cell_type": "code",
   "execution_count": null,
   "id": "86d8ebcd-1a40-494b-a81b-62836b0d85c4",
   "metadata": {},
   "outputs": [],
   "source": [
    "pd.crosstab(data[\"speaker\"], data[\"role\"], margins=\"columns\")"
   ]
  },
  {
   "cell_type": "markdown",
   "id": "bf68c2f9-f6da-4ff7-848c-ee8f4553aa2f",
   "metadata": {},
   "source": [
    "We can use the `ConcordanceTable` tool to start looking at some key terms\n",
    "in the conversation. Terms that might be relevant to a political debate\n",
    "might be things like \"economy\" or \"environment\".\n",
    "\n",
    "Before using the concordance tools, we need to use the `prepare_text_df()`\n",
    "function to process the data, which applies some initial NLP processing."
   ]
  },
  {
   "cell_type": "code",
   "execution_count": null,
   "id": "8ded5772-3281-4b9b-b1aa-98b72e8278c1",
   "metadata": {},
   "outputs": [],
   "source": [
    "data = prepare_text_df(data, text_column=\"text\", id_column=\"text_id\")\n",
    "\n",
    "table = ConcordanceTable(data, keyword=\"economy\", results_per_page=10)\n",
    "table"
   ]
  },
  {
   "cell_type": "markdown",
   "id": "c104e35c-1814-41db-abc0-5eadfef4aa35",
   "metadata": {},
   "source": [
    "We can update the search settings and display the table again:"
   ]
  },
  {
   "cell_type": "code",
   "execution_count": null,
   "id": "5b498a13-228f-4b29-9293-0bb4c0363297",
   "metadata": {},
   "outputs": [],
   "source": [
    "table.keyword = \"environment\"\n",
    "table"
   ]
  },
  {
   "cell_type": "markdown",
   "id": "0dbab300-b430-4ef4-83a9-779b78c275f8",
   "metadata": {},
   "source": [
    "It seems the economy was a focus, but environmental issues were not a major feature of this debate."
   ]
  },
  {
   "cell_type": "markdown",
   "id": "34174180-bc06-49c9-a8ec-fba8cba74ce5",
   "metadata": {},
   "source": [
    "If you have other ideas about relevant topics, you can use the \n",
    "`ConcordanceWidget` to search for them in real-time. If you've\n",
    "found useful results, you can export them to Excel:"
   ]
  },
  {
   "cell_type": "code",
   "execution_count": null,
   "id": "94bb8056-38f1-4f7a-89d8-b96f8d5202ab",
   "metadata": {},
   "outputs": [],
   "source": [
    "widget = ConcordanceWidget(data, results_per_page=10)\n",
    "widget.show()"
   ]
  },
  {
   "cell_type": "markdown",
   "id": "b71d77a6-e463-4ae9-a070-bc8fbfe96309",
   "metadata": {},
   "source": [
    "> ### What's the difference between ConcordanceWidget and ConcordanceTable?\n",
    ">\n",
    "> * `ConcordanceWidget` lets you search interactively, but the results won't be saved in the notebook\n",
    "> * `ConcordanceTable` is non-interactive, but the results are saved in the notebook, so you\n",
    ">   can share them easily"
   ]
  },
  {
   "cell_type": "markdown",
   "id": "4acf6c28-4035-4fcb-b96b-a25794a77930",
   "metadata": {},
   "source": [
    "## Analysis of Conversation Data\n",
    "\n",
    "In order to model our conversation data, we need to load our data into\n",
    "a `Conversation` object. The `Conversation` object carries out some initial processing of the text,\n",
    "which will be handled by a `spacy` language model. If you need to analyse\n",
    "data for a non-English corpus, you can install a relevant [spacy model](https://spacy.io/usage/models)."
   ]
  },
  {
   "cell_type": "code",
   "execution_count": null,
   "id": "b5a684da-ffb5-4a31-a24a-18240a0fadb1",
   "metadata": {},
   "outputs": [],
   "source": [
    "conversation = Conversation(\n",
    "    data=data,\n",
    "    text_column=\"text\",\n",
    "    speaker_column=\"speaker\",\n",
    "    id_column=\"text_id\",\n",
    "    language_model=\"en_core_web_sm\",\n",
    ")\n",
    "conversation"
   ]
  },
  {
   "cell_type": "markdown",
   "id": "c2522c42-a8c7-46a2-8e7e-61e8b2fff279",
   "metadata": {},
   "source": [
    "The `Conversation` object offers some basic functionality for accessing information about\n",
    "the conversation:"
   ]
  },
  {
   "cell_type": "code",
   "execution_count": null,
   "id": "46cab589-630f-4ec7-9880-f1a63c6dd203",
   "metadata": {},
   "outputs": [],
   "source": [
    "conversation.n_speakers, conversation.n_utterances"
   ]
  },
  {
   "cell_type": "markdown",
   "id": "d748a46c-b397-40c9-ac57-41cdd2a9a6fc",
   "metadata": {},
   "source": [
    "You can access the table of utterance data via `conversation.data` - this\n",
    "is a `pandas` DataFrame like the original data but has some additional\n",
    "information added:"
   ]
  },
  {
   "cell_type": "code",
   "execution_count": null,
   "id": "37595cba-ea3f-4ef0-b232-c11ea79e0077",
   "metadata": {},
   "outputs": [],
   "source": [
    "conversation.data.head()"
   ]
  },
  {
   "cell_type": "markdown",
   "id": "b9454a83-ea3e-45fe-a597-e1d287a551df",
   "metadata": {},
   "source": [
    "When we calculate conversational(semantic) similarity below, the default method is based\n",
    "on the most common terms in the data. We can check what these are:"
   ]
  },
  {
   "cell_type": "code",
   "execution_count": null,
   "id": "24b2c713-acc1-4896-b773-1f1647843dba",
   "metadata": {},
   "outputs": [],
   "source": [
    "conversation.get_most_common_terms(n=20)"
   ]
  },
  {
   "cell_type": "markdown",
   "id": "7711ce18-a785-466c-8163-badacddb2b41",
   "metadata": {},
   "source": [
    "We may want to treat some of these terms as **stopwords** so that they don't contribute to\n",
    "the calculation of topic similarity. Stopwords are common grammatical terms that don't carry specific\n",
    "contextual meaning, such as `and, of, the, is`. Note that the `spacy` language model we are using already has some\n",
    "default stopwords defined:"
   ]
  },
  {
   "cell_type": "code",
   "execution_count": null,
   "id": "3707ac1a-0830-4c43-ba26-f5443e2c49bb",
   "metadata": {},
   "outputs": [],
   "source": [
    "default_stopwords = sorted(conversation.nlp.Defaults.stop_words)\n",
    "print(len(default_stopwords), \"default stopwords\")\n",
    "default_stopwords[:10]"
   ]
  },
  {
   "cell_type": "markdown",
   "id": "09bc3ea4-ee57-4470-8acc-5e074b7123a9",
   "metadata": {},
   "source": [
    "After adding these stopwords,\n",
    "the changes should be applied in any new operations:"
   ]
  },
  {
   "cell_type": "code",
   "execution_count": null,
   "id": "9d0e73d9-07cd-44f7-994a-950efb5486b7",
   "metadata": {},
   "outputs": [],
   "source": [
    "conversation.add_stopword(\"mr\")\n",
    "conversation.add_stopword(\"said\")"
   ]
  },
  {
   "cell_type": "code",
   "execution_count": null,
   "id": "35ee50df-cc35-4fa4-89e5-33fe85081e41",
   "metadata": {},
   "outputs": [],
   "source": [
    "conversation.get_most_common_terms(n=20)"
   ]
  },
  {
   "cell_type": "markdown",
   "id": "8b32ad14-7bf2-4721-aca6-dc67950d82fb",
   "metadata": {},
   "source": [
    "You can also access and export the full frequency table of terms. The `term_frequencies` table\n",
    "is a `pandas` DataFrame, so we can export it to Excel easily:"
   ]
  },
  {
   "cell_type": "code",
   "execution_count": null,
   "id": "669cf3d7-f1d0-4eac-991a-b3aa66bbff1a",
   "metadata": {},
   "outputs": [],
   "source": [
    "term_frequencies = conversation.get_term_frequencies()\n",
    "term_frequencies.to_excel(\"conversation_results/term_frequencies.xlsx\", index=False)\n",
    "term_frequencies"
   ]
  },
  {
   "cell_type": "markdown",
   "id": "9b54fea5-b4ae-4dfc-9c88-3324d94a7a7a",
   "metadata": {},
   "source": [
    "### Calculating similarity\n",
    "\n",
    "In order to calculate similarity of terms and topics across the conversation,\n",
    "we'll use the conceptual recurrence calculation from\n",
    "\n",
    "> Angus, D., Smith, A. E., & Wiles, J. (2012). Human Communication as Coupled Time Series: Quantifying Multi-Participant Recurrence. IEEE Transactions on Audio, Speech, and Language Processing, 20(6), 1795–1807. https://doi.org/10.1109/TASL.2012.2189566\n",
    "\n",
    "This method is implemented in `ConceptSimilarityModel`, which takes in a conversation\n",
    "object and performs the similarity calculation on it. To match the method used in the article,\n",
    "we'll use the top 50 key terms as the basis for concepts, which we set with the\n",
    "`key_terms` argument, and use 3-sentence windows when counting which terms co-occur:"
   ]
  },
  {
   "cell_type": "code",
   "execution_count": null,
   "id": "e33c3f98-43f9-474d-ba6f-51c26741a104",
   "metadata": {},
   "outputs": [],
   "source": [
    "concept_model = ConceptSimilarityModel(\n",
    "    conversation, key_terms=50, sentence_window_size=3\n",
    ")\n",
    "concept_model"
   ]
  },
  {
   "cell_type": "markdown",
   "id": "7656831a-d6bc-4bfc-89c8-444d58012541",
   "metadata": {},
   "source": [
    "For convenience, we only need to call one function to get the utterance-to-utterance\n",
    "similarity that will form the basis of the Discursis plot:"
   ]
  },
  {
   "cell_type": "code",
   "execution_count": null,
   "id": "96bf6c56-b230-43dd-945d-28d90f9f3f18",
   "metadata": {},
   "outputs": [],
   "source": [
    "concept_similarity = concept_model.get_conversation_similarity()\n",
    "print(concept_similarity.shape)\n",
    "concept_similarity.iloc[:5, :5]"
   ]
  },
  {
   "cell_type": "markdown",
   "id": "dd4f30ca-068c-443b-a526-df980d871151",
   "metadata": {},
   "source": [
    "However, if we need to, we can also access the concept vectors the similarity is based on:"
   ]
  },
  {
   "cell_type": "code",
   "execution_count": null,
   "id": "1e3a2f94-5959-4c3e-86c4-f61f354fd950",
   "metadata": {},
   "outputs": [],
   "source": [
    "concept_vectors = concept_model.get_concept_vectors()\n",
    "print(concept_vectors.shape)\n",
    "concept_vectors.iloc[:5, :]"
   ]
  },
  {
   "cell_type": "markdown",
   "id": "691b752e-31c5-4a65-8991-7deb3f00168d",
   "metadata": {},
   "source": [
    "Or the similarity between terms in the conversation (based on their co-occurrence):"
   ]
  },
  {
   "cell_type": "code",
   "execution_count": null,
   "id": "db16b754-a8e7-478a-bc9d-3672535d1a2d",
   "metadata": {},
   "outputs": [],
   "source": [
    "term_similarity = concept_model.get_term_similarity_matrix()\n",
    "print(term_similarity.shape)\n",
    "term_similarity.loc[concept_model.key_terms, concept_model.key_terms].iloc[:5, :]"
   ]
  },
  {
   "cell_type": "markdown",
   "id": "e67a8262-fb45-4339-ad5f-ed4e78245264",
   "metadata": {},
   "source": [
    "All of these results are `pandas` DataFrames, so we can export them to Excel like we did above:"
   ]
  },
  {
   "cell_type": "code",
   "execution_count": null,
   "id": "8726d01f-517b-4059-8dc2-c427962902ca",
   "metadata": {},
   "outputs": [],
   "source": [
    "# The index for these tables contains important info, so include it\n",
    "#   when exporting\n",
    "concept_similarity.to_excel(\"conversation_results/debate_similarity.xlsx\", index=True)\n",
    "concept_vectors.to_excel(\"conversation_results/concept_vectors.xlsx\", index=True)\n",
    "term_similarity.to_excel(\"conversation_results/term_similarity.xlsx\", index=True)"
   ]
  },
  {
   "cell_type": "markdown",
   "id": "a1d80012-37a4-4180-8ce3-0fe42920828f",
   "metadata": {},
   "source": [
    "> #### Advanced usage\n",
    ">\n",
    "> This code is here to demonstrate that you can use the results\n",
    "> from the conversation tools however you want, using standard\n",
    "> tools like plotting libraries.\n",
    ">\n",
    "> However, the code requires some advanced knowledge of\n",
    "> `pandas` - this level of knowledge isn't required\n",
    "> for the rest of the workshop"
   ]
  },
  {
   "cell_type": "code",
   "execution_count": null,
   "id": "dc03a6f5-4f98-4cec-aadf-2cecfd8c4f94",
   "metadata": {},
   "outputs": [],
   "source": [
    "term_similarity_data = (\n",
    "    term_similarity.loc[concept_model.key_terms, concept_model.key_terms]\n",
    "    .stack()\n",
    "    .rename_axis([\"term\", \"other\"])\n",
    "    .rename(\"similarity\")\n",
    "    .reset_index()\n",
    ")\n",
    "p = figure(\n",
    "    title=\"Term similarity\",\n",
    "    x_range=concept_model.key_terms,\n",
    "    y_range=concept_model.key_terms,\n",
    ")\n",
    "similarity_colours = linear_cmap(\"similarity\", \"Viridis256\", 0, 1)\n",
    "p.rect(\n",
    "    x=\"term\",\n",
    "    y=\"other\",\n",
    "    width=1,\n",
    "    height=1,\n",
    "    fill_color=similarity_colours,\n",
    "    source=term_similarity_data,\n",
    ")\n",
    "p.xaxis.major_label_orientation = \"vertical\"\n",
    "\n",
    "legend = ColorBar(color_mapper=similarity_colours[\"transform\"])\n",
    "p.add_layout(legend, \"right\")\n",
    "show(p)"
   ]
  },
  {
   "cell_type": "markdown",
   "id": "e31a9078-dc49-4b6e-b9a4-e66b6849f1c8",
   "metadata": {},
   "source": [
    "## Topic recurrence metrics\n",
    "\n",
    "Once we've calculated the conversational similarity, we can use it\n",
    "to calculate related quantities, e.g. the **multi-participant\n",
    "recurrence metrics** outlined in:\n",
    "\n",
    "> Angus, D., Smith, A. E., & Wiles, J. (2012). Human Communication as Coupled Time Series: Quantifying Multi-Participant Recurrence. IEEE Transactions on Audio, Speech, and Language Processing, 20(6), 1795–1807. https://doi.org/10.1109/TASL.2012.2189566\n",
    "\n",
    "\n",
    "\n",
    "and the **person-to-person (P2P)** and **group-to-group (G2G) recurrence** outlined in:\n",
    "\n",
    "> Angus, D., & Wiles, J. (2018). Social semantic networks: Measuring topic management in discourse using a pyramid of conceptual recurrence metrics. Chaos: An Interdisciplinary Journal of Nonlinear Science, 28(8), 085723. https://doi.org/10.1063/1.5024809\n"
   ]
  },
  {
   "cell_type": "markdown",
   "id": "ddc05506-639f-4923-a8dc-5bf46d3920da",
   "metadata": {},
   "source": [
    "### Multi-participant recurrence"
   ]
  },
  {
   "cell_type": "markdown",
   "id": "005bef23-45cb-4967-8d8a-c6155bca2c09",
   "metadata": {},
   "source": [
    "The multi-participant recurrence metrics can be calculated for different combinations of:\n",
    "\n",
    "* Time scale: short, medium or long\n",
    "* Direction: forward or backward\n",
    "* Speaker: self or other\n",
    "\n",
    "You can calculate metrics one at a time. The results show the recurrence score\n",
    "for each utterance in the conversation (identified by `text_id`):"
   ]
  },
  {
   "cell_type": "code",
   "execution_count": null,
   "id": "b8253dd2-5e6a-4ac0-9cdd-a2800235d628",
   "metadata": {},
   "outputs": [],
   "source": [
    "conversation.get_topic_recurrence(\n",
    "    similarity=concept_similarity,\n",
    "    time_scale=\"short\",\n",
    "    direction=\"forward\",\n",
    "    speaker=\"self\",\n",
    ")"
   ]
  },
  {
   "cell_type": "markdown",
   "id": "a2f7d16a-7c1a-4696-9b13-8b4f94e0a3f6",
   "metadata": {},
   "source": [
    "Or calculate them for all combinations. These results are returned in a format that's\n",
    "easy to filter and query in `pandas`:"
   ]
  },
  {
   "cell_type": "code",
   "execution_count": null,
   "id": "fdc1bc8f-0699-4c13-ba17-68881a24609d",
   "metadata": {},
   "outputs": [],
   "source": [
    "all_recurrences = conversation.get_all_topic_recurrences(similarity=concept_similarity)\n",
    "all_recurrences.head()"
   ]
  },
  {
   "cell_type": "markdown",
   "id": "1db0afc9-c9f2-42e5-aae0-24164e5592ab",
   "metadata": {},
   "source": [
    "If you want to view them side-by-side you can do:"
   ]
  },
  {
   "cell_type": "code",
   "execution_count": null,
   "id": "8dbfef1f-87c3-4808-859f-3f14403ca13b",
   "metadata": {},
   "outputs": [],
   "source": [
    "all_recurrences.pivot(\n",
    "    index=\"text_id\", columns=[\"time_scale\", \"direction\", \"speaker\"], values=\"score\"\n",
    ")"
   ]
  },
  {
   "cell_type": "markdown",
   "id": "33e42d8c-7766-49db-ad27-f5b87129ff77",
   "metadata": {},
   "source": [
    "### Person-to-person and group-to-group recurrence"
   ]
  },
  {
   "cell_type": "code",
   "execution_count": null,
   "id": "6d5a8ff9-c0e4-40b4-898d-f5516e36043d",
   "metadata": {},
   "outputs": [],
   "source": [
    "p2p_recurrence = conversation.get_grouped_recurrence(\n",
    "    concept_similarity, grouping_column=\"speaker\"\n",
    ")\n",
    "p2p_recurrence.round(2)"
   ]
  },
  {
   "cell_type": "markdown",
   "id": "d7e20823-c566-4c0f-b5c7-3170abb3af0f",
   "metadata": {},
   "source": [
    "In order to interpret the recurrence scores, it's useful to divide the un-normalized recurrence scores by their total\n",
    "to express them as a percentage of the total recurrence:"
   ]
  },
  {
   "cell_type": "code",
   "execution_count": null,
   "id": "f7c20404-675c-4c1c-bad3-e2c49bd7c06e",
   "metadata": {},
   "outputs": [],
   "source": [
    "def get_percentage_recurrence(recurrence_scores):\n",
    "    total_score = recurrence_scores.sum().sum()\n",
    "    percentages = (recurrence_scores / total_score) * 100\n",
    "    return percentages\n",
    "\n",
    "\n",
    "p2p_recurrence_raw = conversation.get_grouped_recurrence(\n",
    "    concept_similarity, grouping_column=\"speaker\", normalize=False\n",
    ")\n",
    "p2p_percentages = get_percentage_recurrence(p2p_recurrence_raw)\n",
    "p2p_percentages.round(1)"
   ]
  },
  {
   "cell_type": "code",
   "execution_count": null,
   "id": "e28cfa71-09bd-42f2-b331-09e1fe8e5884",
   "metadata": {},
   "outputs": [],
   "source": [
    "g2g_recurrence = conversation.get_grouped_recurrence(\n",
    "    concept_similarity, grouping_column=\"role\"\n",
    ")\n",
    "g2g_recurrence.round(2)"
   ]
  },
  {
   "cell_type": "code",
   "execution_count": null,
   "id": "94c6a0d6-93f4-46d4-919c-e1b26768e903",
   "metadata": {},
   "outputs": [],
   "source": [
    "g2g_recurrence_raw = conversation.get_grouped_recurrence(\n",
    "    concept_similarity, grouping_column=\"role\", normalize=False\n",
    ")\n",
    "g2g_percentages = get_percentage_recurrence(g2g_recurrence_raw)\n",
    "g2g_percentages.round(1)"
   ]
  },
  {
   "cell_type": "markdown",
   "id": "109b8016-c303-47a4-8cfe-230e0e3d5c81",
   "metadata": {},
   "source": [
    "### Social semantic networks\n",
    "\n",
    "Recurrence scores can be visualized using a social semantic network, using the recurrence score\n",
    "as the edge weight between nodes of the network.\n",
    "\n",
    "You could export the recurrence scores to Excel and use them in specialized software\n",
    "like [Gephi](https://gephi.org/), or use Python's `networkx` library:"
   ]
  },
  {
   "cell_type": "code",
   "execution_count": null,
   "id": "8e49f532-27a6-408e-9353-1725747903af",
   "metadata": {},
   "outputs": [],
   "source": [
    "p2p_network = nx.from_pandas_adjacency(p2p_recurrence_raw, create_using=nx.DiGraph)\n",
    "edge_weights = [weight for (a, b, weight) in p2p_network.edges.data(\"weight\")]\n",
    "\n",
    "fig, ax = plt.subplots()\n",
    "fig.set_size_inches((8, 8))\n",
    "# Draw the network\n",
    "layout = nx.layout.spring_layout(p2p_network)\n",
    "nx.draw_networkx(\n",
    "    p2p_network,\n",
    "    pos=layout,\n",
    "    arrows=True,\n",
    "    connectionstyle=\"arc3,rad=0.2\",\n",
    "    font_weight=\"bold\",\n",
    "    node_size=500,\n",
    "    edge_cmap=cm.viridis,\n",
    "    edge_color=edge_weights,\n",
    "    width=[np.log(w) for w in edge_weights],\n",
    "    bbox={\"ec\": \"k\", \"fc\": \"white\", \"alpha\": 0.5},\n",
    "    verticalalignment=\"bottom\",\n",
    "    horizontalalignment=\"left\",\n",
    ")"
   ]
  },
  {
   "cell_type": "markdown",
   "id": "937a08ec-7cc0-4b5b-b2fb-7bc2eecd6c96",
   "metadata": {},
   "source": [
    "As expected, the 3 central participants in the debate repeat each others' concept much more than the additional journalists."
   ]
  },
  {
   "cell_type": "markdown",
   "id": "c1894ee5-00ec-4022-a12d-b961dba59ed9",
   "metadata": {},
   "source": [
    "## Visualizing similarity"
   ]
  },
  {
   "cell_type": "markdown",
   "id": "e5e07130-dc2f-48a5-a68b-886ce4ae422c",
   "metadata": {},
   "source": [
    "The Discursis-style plot of similarity across the conversation is\n",
    "available through `ConversationPlot`:"
   ]
  },
  {
   "cell_type": "code",
   "execution_count": null,
   "id": "67920e40-98d0-4bbd-960b-e49ae12c3561",
   "metadata": {},
   "outputs": [],
   "source": [
    "discursis_plot = ConversationPlot(conversation, similarity_matrix=concept_similarity)\n",
    "discursis_plot.show()"
   ]
  },
  {
   "cell_type": "markdown",
   "id": "78eb58f5-a866-4b83-83aa-5d1827296aa4",
   "metadata": {},
   "source": [
    "While the default is to colour the plot by speakers, the more relevant column here \n",
    "is probably `\"role\"`, so we may want to use that from now on:"
   ]
  },
  {
   "cell_type": "code",
   "execution_count": null,
   "id": "4f937629-7cf9-4971-aeae-5af2f1e02e18",
   "metadata": {},
   "outputs": [],
   "source": [
    "role_plot = ConversationPlot(\n",
    "    conversation,\n",
    "    similarity_matrix=concept_similarity,\n",
    "    grouping_column=\"role\",\n",
    "    options={\"show_help_text\": False},\n",
    ")\n",
    "role_plot.show()"
   ]
  },
  {
   "cell_type": "markdown",
   "id": "0604ff5a-4f5d-47a0-885e-f6a82d119038",
   "metadata": {},
   "source": [
    "For more focussed exploration of the conversation, you can inspect a subset.\n",
    "You can use the **Box Zoom** tool to zoom in on parts of the plot manually, however it may be better\n",
    "to explicitly plot part of the conversation to focus on. \n",
    "\n",
    "**Box zoom icon**: ![Box zoom icon](https://docs.bokeh.org/en/latest/_images/BoxZoom.png)\n",
    "\n",
    "You can also use the\n",
    "`threshold` option to remove tiles with low similarity, to better highlight the utterances\n",
    "that are similar:"
   ]
  },
  {
   "cell_type": "code",
   "execution_count": null,
   "id": "99ee0d07-dc6d-4d5c-b4c7-38d358acbf8e",
   "metadata": {},
   "outputs": [],
   "source": [
    "focused_plot = ConversationPlot(\n",
    "    conversation,\n",
    "    similarity_matrix=concept_similarity.iloc[:25, :25],\n",
    "    grouping_column=\"role\",\n",
    "    threshold=0.2,\n",
    ")\n",
    "focused_plot.show()"
   ]
  },
  {
   "cell_type": "markdown",
   "id": "6b68d23f-ba39-41f6-9242-773d0edf5f88",
   "metadata": {},
   "source": [
    "## Using Discursis with your own data"
   ]
  },
  {
   "cell_type": "markdown",
   "id": "a1555f5a-3354-419c-ae37-05354f2e78c5",
   "metadata": {},
   "source": [
    "Using discursis with your own data requires you to first\n",
    "load your data with `pandas`, and then create a conversation\n",
    "object from it. `pandas` can load Excel and `csv` files (along\n",
    "with multiple other formats), but we'll assume you have an Excel file here,\n",
    "with a `.xlsx` file extension, and with two columns named\n",
    "`text` and `speaker`.\n",
    "\n",
    "If you are running this notebook via [mybinder.org](https://mybinder.org/),\n",
    "you can upload a file using the example code below. Upload your\n",
    "data then re-run the subsequent cell to see a basic Discursis visualisation."
   ]
  },
  {
   "cell_type": "code",
   "execution_count": null,
   "id": "0a842a8e-0e3e-4329-92a1-13e18eb8f879",
   "metadata": {},
   "outputs": [],
   "source": [
    "from ipywidgets import FileUpload\n",
    "from IPython.display import display, Markdown\n",
    "import io\n",
    "\n",
    "uploader = FileUpload(accept=\".xlsx\", multiple=False)\n",
    "\n",
    "display(Markdown(\"Press the upload button to load your own data:\"))\n",
    "display(uploader)"
   ]
  },
  {
   "cell_type": "markdown",
   "id": "d921fb08-eac0-45d1-938c-0c9e5baf49f8",
   "metadata": {},
   "source": [
    "Rerun this cell after uploading:"
   ]
  },
  {
   "cell_type": "code",
   "execution_count": null,
   "id": "1eb0d21c-7dc0-4560-92a1-f75848af4370",
   "metadata": {},
   "outputs": [],
   "source": [
    "# We are doing some extra steps here to deal with the uploader\n",
    "# Once you have your data loaded, things should be easier\n",
    "if uploader.value:\n",
    "    filename = list(uploader.value.keys())[0]\n",
    "    file_info = uploader.value[filename]\n",
    "    my_data = pd.read_excel(io.BytesIO(file_info[\"content\"]))\n",
    "    # After loading your data, these are the steps to\n",
    "    #   calculate similarity and produce the plot:\n",
    "    my_conversation = Conversation(my_data)\n",
    "    my_model = ConceptSimilarityModel(my_conversation)\n",
    "    print(\"Calculating concept similarity...\")\n",
    "    my_similarity = my_model.get_conversation_similarity()\n",
    "    print(\"Done\")\n",
    "    my_plot = ConversationPlot(my_conversation, my_similarity.iloc[20:40, 20:40])\n",
    "    my_plot.show()\n",
    "else:\n",
    "    print(\"Upload your data with the button above then rerun this cell\")"
   ]
  }
 ],
 "metadata": {
  "kernelspec": {
   "display_name": "Python 3 (ipykernel)",
   "language": "python",
   "name": "python3"
  },
  "language_info": {
   "codemirror_mode": {
    "name": "ipython",
    "version": 3
   },
   "file_extension": ".py",
   "mimetype": "text/x-python",
   "name": "python",
   "nbconvert_exporter": "python",
   "pygments_lexer": "ipython3",
   "version": "3.9.13"
  },
  "toc-showcode": false,
  "toc-showmarkdowntxt": false,
  "toc-showtags": false
 },
 "nbformat": 4,
 "nbformat_minor": 5
}
