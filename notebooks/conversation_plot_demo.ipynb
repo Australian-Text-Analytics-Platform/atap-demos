{
 "cells": [
  {
   "cell_type": "code",
   "execution_count": null,
   "id": "e773032a-2865-42c3-b02d-30592cd93c3d",
   "metadata": {},
   "outputs": [],
   "source": [
    "from bokeh.io import output_notebook\n",
    "\n",
    "# This needs to be run to enable interactive bokeh plots\n",
    "output_notebook()\n",
    "from convokit import Corpus, download\n",
    "\n",
    "from atap_widgets.conversation import (\n",
    "    Conversation,\n",
    "    ConceptSimilarityModel,\n",
    "    EmbeddingModel,\n",
    ")\n",
    "from atap_widgets.plotting import ConversationPlot"
   ]
  },
  {
   "cell_type": "markdown",
   "id": "c005ac78-a524-4407-b94f-3f8732504810",
   "metadata": {},
   "source": [
    "## Download corpus\n",
    "\n",
    "We will use the [Intelligence Squared Debates Corpus](https://convokit.cornell.edu/documentation/iq2.html) from `ConvoKit` as it can be downloaded on demand.\n",
    "`ConvoKit` provides data as dataframes, so we can load them into our conversation tool easily, without much preprocessing."
   ]
  },
  {
   "cell_type": "code",
   "execution_count": null,
   "id": "c99e1157-93f4-41cd-a7a7-b0452d241e7a",
   "metadata": {},
   "outputs": [],
   "source": [
    "corpus = Corpus(filename=download(\"iq2-corpus\"))"
   ]
  },
  {
   "cell_type": "code",
   "execution_count": null,
   "id": "30ee2653-31a0-42d3-a114-996efc2e9196",
   "metadata": {},
   "outputs": [],
   "source": [
    "sport = corpus.conversations[\"0\"]"
   ]
  },
  {
   "cell_type": "code",
   "execution_count": null,
   "id": "65f86ef5-562b-44d2-a1b9-91e82a709a68",
   "metadata": {},
   "outputs": [],
   "source": [
    "sport_df = sport.get_utterances_dataframe().reset_index()\n",
    "sport_df.head()"
   ]
  },
  {
   "cell_type": "markdown",
   "id": "5353942c-d298-41fd-beb1-17719ee15388",
   "metadata": {},
   "source": [
    "## Create a `Conversation` object\n",
    "\n",
    "We use a `Conversation` object to wrap conversation data and make sure we can access the key parts of it. The input is a dataframe where rows are utterances, and there are `text` and `speaker` columns, with an optional column for an utterance ID."
   ]
  },
  {
   "cell_type": "code",
   "execution_count": null,
   "id": "60b781b8-c9af-49f8-a41c-205ce0506f1f",
   "metadata": {},
   "outputs": [],
   "source": [
    "sport_conversation = Conversation(sport_df, id_column=\"id\")\n",
    "sport_conversation"
   ]
  },
  {
   "cell_type": "markdown",
   "id": "7a692186-0812-40bf-8997-929f6181c7ba",
   "metadata": {},
   "source": [
    "The `Conversation` object currently provides a few basic features like the most common terms."
   ]
  },
  {
   "cell_type": "code",
   "execution_count": null,
   "id": "0b998b75-c2fb-4d3b-8e23-1b46e3cd03b3",
   "metadata": {},
   "outputs": [],
   "source": [
    "print(sport_conversation.get_speaker_names())\n",
    "sport_conversation.get_term_frequencies().head(10)"
   ]
  },
  {
   "cell_type": "markdown",
   "id": "cbcb7f22-ea94-4bf1-ad07-4746fce845e0",
   "metadata": {},
   "source": [
    "If we notice terms we don't want in the top terms, we can add them to the stopwords:"
   ]
  },
  {
   "cell_type": "code",
   "execution_count": null,
   "id": "1cd56d1b-002d-4710-854d-85d30ed40eb1",
   "metadata": {},
   "outputs": [],
   "source": [
    "sport_conversation.add_stopword(\"uh\")\n",
    "sport_conversation.get_term_frequencies().head(10)"
   ]
  },
  {
   "cell_type": "markdown",
   "id": "4c46d26f-9525-4df4-a00b-c66215d80991",
   "metadata": {},
   "source": [
    "## Calculating conversational similarity\n",
    "\n",
    "We pass the conversation object to different models to calculate\n",
    "conversational similarity in different ways:\n",
    "\n",
    "* `ConceptSimilarityModel` implements the co-occurrence based algorithm from\n",
    "  > Angus, D., Smith, A., & Wiles, J. (2012). Conceptual Recurrence Plots: Revealing Patterns in Human Discourse. IEEE Transactions on Visualization and Computer Graphics, 18(6), 988–997. https://doi.org/10/b49pvx\n",
    "* `EmbeddingModel` uses RoBERTa sentence embeddings for each utterance, and calculates the cosine similarity between them."
   ]
  },
  {
   "cell_type": "markdown",
   "id": "64242f2b-688e-4582-8761-72124ef21089",
   "metadata": {},
   "source": [
    "### Cooccurrence-based similarity\n",
    "\n",
    "By default we use the top 20 most frequent terms as the key terms for the model (only counting terms once per utterance).\n",
    "However, we can provide our own custom terms using the `top_terms` argument"
   ]
  },
  {
   "cell_type": "code",
   "execution_count": null,
   "id": "af0d5076-fe18-4a34-a696-1d95e2b2f39d",
   "metadata": {},
   "outputs": [],
   "source": [
    "sport_concept_model = ConceptSimilarityModel(sport_conversation, n_top_terms=20)\n",
    "sport_concept_model.top_terms"
   ]
  },
  {
   "cell_type": "markdown",
   "id": "e57d7860-6468-4c05-8b86-22ac499dc0d3",
   "metadata": {},
   "source": [
    "The model object provides access to details of the model through methods like `get_concept_vectors()`.\n",
    "However, the most important output provides is the utterance-level pairwise similarity:"
   ]
  },
  {
   "cell_type": "code",
   "execution_count": null,
   "id": "0eb32c65-fa29-4a81-9e78-6f7f7ddd502c",
   "metadata": {},
   "outputs": [],
   "source": [
    "sport_concept_matrix = sport_concept_model.get_conversation_similarity()\n",
    "sport_concept_matrix.iloc[:5, :5]"
   ]
  },
  {
   "cell_type": "markdown",
   "id": "4521fc28-34db-48a3-9982-6110efd0f57d",
   "metadata": {},
   "source": [
    "## Interactive plot\n",
    "\n",
    "We pass the pairwise similarity matrix we get from a model to `ConversationPlot` to produce an interactive visualisation.\n",
    "The full conversation may be too large to visualize easily, we can view a subset by\n",
    "indexing the matrix:"
   ]
  },
  {
   "cell_type": "code",
   "execution_count": null,
   "id": "8b564f5e-f7a8-40aa-9834-a3a66620fc05",
   "metadata": {},
   "outputs": [],
   "source": [
    "sport_concept_plot = ConversationPlot(\n",
    "    sport_conversation, sport_concept_matrix.iloc[100:150, 100:150]\n",
    ")\n",
    "sport_concept_plot.show()"
   ]
  },
  {
   "cell_type": "code",
   "execution_count": null,
   "id": "8788e26f-a44c-47eb-82fd-de756cfe4c4f",
   "metadata": {},
   "outputs": [],
   "source": []
  }
 ],
 "metadata": {
  "kernelspec": {
   "display_name": "Python 3 (ipykernel)",
   "language": "python",
   "name": "python3"
  },
  "language_info": {
   "codemirror_mode": {
    "name": "ipython",
    "version": 3
   },
   "file_extension": ".py",
   "mimetype": "text/x-python",
   "name": "python",
   "nbconvert_exporter": "python",
   "pygments_lexer": "ipython3",
   "version": "3.9.10"
  }
 },
 "nbformat": 4,
 "nbformat_minor": 5
}
