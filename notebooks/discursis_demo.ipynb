{
 "cells": [
  {
   "cell_type": "markdown",
   "id": "95b82e17-e6fd-43b9-9a91-6082d8358160",
   "metadata": {},
   "source": [
    "# Discursis: Conversation analysis tool\n",
    "\n",
    "Discursis can be used to analyze conversation and discourse\n",
    "transcripts, and other text that is structured like a conversation, such as social media data.\n",
    "In this notebook, we provide the minimal amount of code to run the tool on your own dataset.\n",
    "See our other notebooks, e.g. `discursis_workshop.ipynb`, for a more detailed explanation\n",
    "of the different analysis options available.\n",
    "\n",
    "For instructions on using this demonstration notebook, see the **Discursis User Guide**\n",
    "\n",
    "<div class=\"alert alert-block alert-warning\">\n",
    "<b>User guide to using a Jupyter Notebook</b> \n",
    "\n",
    "If you are new to Jupyter Notebook, feel free to take a quick look at [this user guide](https://github.com/Australian-Text-Analytics-Platform/discursis/blob/master/docs/jupyter-notebook-guide.pdf) for basic information on how to use a notebook.\n",
    "</div>"
   ]
  },
  {
   "cell_type": "markdown",
   "id": "0b97febb-9869-4f88-8fc5-21353a2f0de3",
   "metadata": {},
   "source": [
    "## Python setup\n",
    "\n",
    "This cell loads the Python packages/libraries required to run the Discursis tool. Execute this cell\n",
    "before running the code below.\n",
    "\n",
    "<div class=\"alert alert-block alert-info\">\n",
    "<b>Python tools used in the Discursis tool:</b>    \n",
    "    \n",
    "- [spaCy](https://spacy.io/): for text cleaning and normalisation\n",
    "- [pandas](https://pandas.pydata.org/): for storing and displaying in dataframe (table) format\n",
    "- [bokeh](https://bokeh.org/): for interactive visualizations\n",
    "- [atap_widgets](https://github.com/Australian-Text-Analytics-Platform/atap_widgets): A collection of data anlysis tools (including Discursis) developed as part of ATAP\n",
    "</div>"
   ]
  },
  {
   "cell_type": "code",
   "execution_count": null,
   "id": "9ab0d38a-6574-4534-918c-cac3237eed66",
   "metadata": {},
   "outputs": [],
   "source": [
    "import os\n",
    "\n",
    "# In order for bokeh to work properly on Binder, we need to specify\n",
    "#   the URL it's running on (atap_widgets checks for this environment variable)\n",
    "os.environ[\"BINDER_EXTERNAL_URL\"] = os.environ.get(\n",
    "    \"JUPYTERHUB_EXTERNAL_URL\",  # Should be defined on the ATAP binder instance\n",
    "    \"https://notebooks.gesis.org/\"\n",
    ")\n",
    "\n",
    "from IPython.display import display, Markdown\n",
    "from ipywidgets import FileUpload\n",
    "import pandas as pd\n",
    "from bokeh.io import output_notebook\n",
    "# This needs to be run to enable interactive bokeh plots\n",
    "output_notebook()\n",
    "\n",
    "# Conversational analysis tools from atap_widgets\n",
    "from atap_widgets.conversation import (\n",
    "    ConceptSimilarityModel,\n",
    "    Conversation,\n",
    ")\n",
    "from atap_widgets.plotting import ConversationPlot\n",
    "from atap_widgets.concordance import (\n",
    "    ConcordanceTable,\n",
    "    ConcordanceWidget,\n",
    "    prepare_text_df,\n",
    ")\n",
    "from demo import read_uploaded_file"
   ]
  },
  {
   "cell_type": "markdown",
   "id": "6b68d23f-ba39-41f6-9242-773d0edf5f88",
   "metadata": {},
   "source": [
    "## Using Discursis to visualize conversations"
   ]
  },
  {
   "cell_type": "markdown",
   "id": "a1555f5a-3354-419c-ae37-05354f2e78c5",
   "metadata": {},
   "source": [
    "Applying the Discursis tool to a dataset requires you to\n",
    "load your data with `pandas`, and then create a conversation\n",
    "object from it. `pandas` can load Excel and `csv` files (along\n",
    "with multiple other formats), but we'll assume you have an Excel file here,\n",
    "with a `.xlsx` file extension, and with two columns named\n",
    "`text` and `speaker`, and one row per utterance in the conversation.\n",
    "\n",
    "If you are running this notebook in your browser via [mybinder.org](https://mybinder.org/) (or another Binder site),\n",
    "you can upload a file by running the cell below and the clicking the \"Upload\" button. If you just want to test out Discursis, you can use [this spreadsheet](https://github.com/Australian-Text-Analytics-Platform/discursis/raw/master/notebooks/data/debate_clean.xlsx), containing the transcript of the National Press Club Leaders Debate\n",
    "between Kevin Rudd and Tony Abbott, available at the [Parliament of Australia website](https://parlinfo.aph.gov.au/parlInfo/search/display/display.w3p;query=Id:%22media/pressrel/2658246%22) under a [CC BY-NC-ND 3.0 AU](https://creativecommons.org/licenses/by-nc-nd/3.0/au/)\n",
    "Creative Commons license.:\n",
    "\n",
    "<div class=\"alert alert-block alert-danger\">\n",
    "<b>Large files</b> \n",
    "    \n",
    "If you are running this demo online via Binder, you should keep\n",
    "your data file small (e.g. &lt; 500 utterances), as the servers\n",
    "have limited resources. For larger datasets, you can install\n",
    "the tool on your local machine.\n",
    "</div>"
   ]
  },
  {
   "cell_type": "code",
   "execution_count": null,
   "id": "0a842a8e-0e3e-4329-92a1-13e18eb8f879",
   "metadata": {},
   "outputs": [],
   "source": [
    "uploader = FileUpload(accept=\".xlsx\", multiple=False)\n",
    "\n",
    "display(Markdown(\"Press the upload button to load your own data:\"))\n",
    "display(uploader)"
   ]
  },
  {
   "cell_type": "markdown",
   "id": "d921fb08-eac0-45d1-938c-0c9e5baf49f8",
   "metadata": {},
   "source": [
    "Once you've uploaded the file, run the following cell to preview your data:"
   ]
  },
  {
   "cell_type": "code",
   "execution_count": null,
   "id": "a63fce9b-585c-406e-af0c-25bdfa73b30f",
   "metadata": {
    "tags": []
   },
   "outputs": [],
   "source": [
    "data = read_uploaded_file(uploader)\n",
    "data.head()"
   ]
  },
  {
   "cell_type": "markdown",
   "id": "f399f0b9-49d0-4e22-8d34-f63e070bb3da",
   "metadata": {},
   "source": [
    "The next cell loads the data as a conversation, and analyses the similarity between each utterance. This analysis uses the conceptual recurrance metric from:\n",
    "\n",
    "> Angus, D., Smith, A. E., & Wiles, J. (2012). Human Communication as Coupled Time Series: Quantifying Multi-Participant Recurrence. IEEE Transactions on Audio, Speech, and Language Processing, 20(6), 1795–1807. https://doi.org/10.1109/TASL.2012.2189566"
   ]
  },
  {
   "cell_type": "code",
   "execution_count": null,
   "id": "8cd1e6be-e1ce-4d22-80f6-df50e434d8ac",
   "metadata": {
    "tags": []
   },
   "outputs": [],
   "source": [
    "conversation = Conversation(data, text_column=\"text\", speaker_column=\"speaker\")\n",
    "model = ConceptSimilarityModel(conversation)\n",
    "similarity = model.get_conversation_similarity()\n",
    "print(f\"Similarity analysis finished:\\nsimilarity is a matrix with {similarity.shape[0]} rows and {similarity.shape[1]} columns\")"
   ]
  },
  {
   "cell_type": "markdown",
   "id": "54babb60-a948-496f-a5d3-5e4538a60725",
   "metadata": {},
   "source": [
    "Finally, you can visualise the results of the conversation analysis. We only plot a subset of the conversation here by default (set by the `start` and `end` variables), as the results are easier to inspect on a small scale, but you can plot an entire conversation at once if needed.\n",
    "\n",
    "In the plot:\n",
    "\n",
    "* Utterances are represented in the **main diagonal** - each tile represents one utterance\n",
    "* Tiles are coloured by speaker\n",
    "* The size of tiles (in the main diagonal) reflects the length of the utterance\n",
    "* Similarity between utterances is shown in the tiles **below the main diagonal**,\n",
    "  showing the similarity between the two utterances in that row and column:\n",
    "  * More opaque tiles have higher similarity scores\n",
    "  * Tiles are coloured by the speakers for the utterances in that row and column\n",
    "\n",
    "<div class=\"alert alert-block alert-warning\">\n",
    "<b>Interacting with the Discursis plot</b> \n",
    "\n",
    "The Discursis plot allows you to:\n",
    "    \n",
    "* Hover over tiles on the main diagonal to see the ID and text of that utterance\n",
    "* Hover over tiles below the main diagonal to see the similarity scores between utterances\n",
    "* Click on tiles to select them, and show the corresponding text in the table below the plot.\n",
    "</div>"
   ]
  },
  {
   "cell_type": "code",
   "execution_count": null,
   "id": "1dfac29e-05b6-42b0-a02d-1e9663e6a071",
   "metadata": {
    "tags": []
   },
   "outputs": [],
   "source": [
    "start = 20\n",
    "end = 40\n",
    "plot = ConversationPlot(conversation, similarity.iloc[start:end, start:end])\n",
    "plot.show()"
   ]
  }
 ],
 "metadata": {
  "kernelspec": {
   "display_name": "Python 3 (ipykernel)",
   "language": "python",
   "name": "python3"
  },
  "language_info": {
   "codemirror_mode": {
    "name": "ipython",
    "version": 3
   },
   "file_extension": ".py",
   "mimetype": "text/x-python",
   "name": "python",
   "nbconvert_exporter": "python",
   "pygments_lexer": "ipython3",
   "version": "3.10.14"
  },
  "toc-showcode": false,
  "toc-showmarkdowntxt": false,
  "toc-showtags": false
 },
 "nbformat": 4,
 "nbformat_minor": 5
}
