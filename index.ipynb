{
 "cells": [
  {
   "cell_type": "markdown",
   "id": "f218d0d1",
   "metadata": {},
   "source": [
    "# Discursis\n",
    "\n",
    "Current version: [v0.0.1](https://github.com/Australian-Text-Analytics-Platform/discursis/releases/tag/v0.0.1)\n",
    "\n",
    "Demo notebooks for ATAP \n",
    "\n",
    "## Notebook topics\n",
    "\n",
    "* [Notebook title](notebook.ipynb) – this notebook does things\n",
    "\n",
    "\n",
    "\n"
   ]
  }
 ],
 "metadata": {
  "jupytext": {
   "cell_metadata_filter": "-all"
  },
  "kernelspec": {
   "display_name": "Python 3 (ipykernel)",
   "language": "python",
   "name": "python3"
  }
 },
 "nbformat": 4,
 "nbformat_minor": 5
}
