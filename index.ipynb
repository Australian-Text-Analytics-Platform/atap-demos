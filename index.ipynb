{
 "cells": [
  {
   "cell_type": "markdown",
   "id": "2d93f0c0",
   "metadata": {},
   "source": [
    "# atap-demos\n",
    "\n",
    "Current version: [v0.0.0](https://github.com/Australian-Text-Analytics-Platform/atap-demos/releases/tag/v0.0.0)\n",
    "\n",
    "Demo notebooks for ATAP For more information see the [atap-demos](https://glam-workbench.net/atap-demos/) section of the GLAM Workbench.\n",
    "\n",
    "## Notebook topics\n",
    "\n",
    "* [Notebook title](notebook.ipynb) – this notebook does things\n",
    "\n",
    "See the [GLAM Workbench for more details](https://glam-workbench.github.io/atap-demos/).\n",
    "\n",
    "\n"
   ]
  }
 ],
 "metadata": {
  "jupytext": {
   "cell_metadata_filter": "-all"
  },
  "kernelspec": {
   "display_name": "Python 3 (ipykernel)",
   "language": "python",
   "name": "python3"
  }
 },
 "nbformat": 4,
 "nbformat_minor": 5
}
