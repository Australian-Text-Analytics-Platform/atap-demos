{
 "cells": [
  {
   "cell_type": "markdown",
   "id": "e375e9fe",
   "metadata": {},
   "source": [
    "# Intro to Discursis workshop\n",
    "\n",
    "This repository contains material for a short workshop introducing the (new) Discursis tool,\n",
    "an analysis and visualisation tool for conversational data.\n",
    "\n",
    "If you want to install and use the Discursis tool in your own projects, see \n",
    "the [atap_widgets](https://github.com/Australian-Text-Analytics-Platform/atap_widgets)\n",
    "package.\n",
    "\n",
    "## Notebooks\n",
    "\n",
    "The workshop material is in a Jupyter notebook under `notebooks/`.\n",
    "\n",
    "Click the Binder badge to open the notebook directly in Binder, a free online platform for hosting\n",
    "Jupyter notebooks:\n",
    "\n",
    "* Intro to Discursis: [![Launch on Binder](https://mybinder.org/badge_logo.svg)](https://binderhub.atap-binder.cloud.edu.au/v2/gh/Australian-Text-Analytics-Platform/discursis/master/?urlpath=lab/tree/notebooks/discursis_workshop.ipynb)\n",
    "  * Backup Binder instance: [![Launch on Binder](https://mybinder.org/badge_logo.svg)](https://notebooks.gesis.org/binder/v2/gh/Australian-Text-Analytics-Platform/discursis/master/?urlpath=lab/tree/notebooks/discursis_workshop.ipynb)\n",
    "\n",
    "Current version: [v0.0.1](https://github.com/Australian-Text-Analytics-Platform/discursis/releases/tag/v0.0.1)"
   ]
  },
  {
   "cell_type": "markdown",
   "id": "27e42f42",
   "metadata": {},
   "source": [
    "This repository was created using a template from the [GLAM Workbench](https://glam-workbench.net/)."
   ]
  }
 ],
 "metadata": {
  "jupytext": {
   "cell_metadata_filter": "-all"
  },
  "kernelspec": {
   "display_name": "Python 3 (ipykernel)",
   "language": "python",
   "name": "python3"
  }
 },
 "nbformat": 4,
 "nbformat_minor": 5
}
