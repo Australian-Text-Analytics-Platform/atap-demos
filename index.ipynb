{
 "cells": [
  {
   "cell_type": "markdown",
   "id": "d04c0239",
   "metadata": {},
   "source": [
    "# atap-demos\n",
    "\n",
    "Current version: [v0.0.0](https://github.com/Australian-Text-Analytics-Platform/atap-demos/releases/tag/v0.0.0)\n",
    "\n",
    "Demo notebooks for ATAP \n",
    "\n",
    "## Notebook topics\n",
    "\n",
    "* [Notebook title](notebook.ipynb) – this notebook does things\n",
    "\n",
    "\n",
    "\n"
   ]
  }
 ],
 "metadata": {
  "jupytext": {
   "cell_metadata_filter": "-all"
  },
  "kernelspec": {
   "display_name": "Python 3 (ipykernel)",
   "language": "python",
   "name": "python3"
  }
 },
 "nbformat": 4,
 "nbformat_minor": 5
}
