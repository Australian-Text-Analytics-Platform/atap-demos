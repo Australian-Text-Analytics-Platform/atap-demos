{
 "cells": [
  {
   "cell_type": "markdown",
   "id": "92dfc7c1",
   "metadata": {},
   "source": [
    "# Discursis\n",
    "\n",
    "Current version: [v0.0.1](https://github.com/Australian-Text-Analytics-Platform/discursis/releases/tag/v0.0.1)\n",
    "\n",
    "Demo notebooks for ATAP \n",
    "\n",
    "## Notebook topics\n",
    "\n",
    "* Intro to Discursis: [![Launch on Binder](https://mybinder.org/badge_logo.svg)](https://notebooks.gesis.org/binder/v2/gh/Australian-Text-Analytics-Platform/discursis/master/?urlpath=lab/tree/notebooks/discursis_workshop.ipynb)\n",
    "\n",
    "\n"
   ]
  }
 ],
 "metadata": {
  "jupytext": {
   "cell_metadata_filter": "-all"
  },
  "kernelspec": {
   "display_name": "Python 3 (ipykernel)",
   "language": "python",
   "name": "python3"
  }
 },
 "nbformat": 4,
 "nbformat_minor": 5
}
